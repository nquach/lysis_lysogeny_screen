{
 "cells": [
  {
   "cell_type": "code",
   "execution_count": 1,
   "metadata": {
    "collapsed": true
   },
   "outputs": [],
   "source": [
    "%matplotlib inline\n",
    "import numpy as np\n",
    "import matplotlib.pyplot as plt\n",
    "import os"
   ]
  },
  {
   "cell_type": "code",
   "execution_count": 2,
   "metadata": {
    "collapsed": true
   },
   "outputs": [],
   "source": [
    "#Define colors\n",
    "orange = (230.0/255.0, 159.0/255.0, 0)\n",
    "green = (0.0, 158.0/255.0, 115.0/255.0)"
   ]
  },
  {
   "cell_type": "code",
   "execution_count": 3,
   "metadata": {
    "collapsed": true
   },
   "outputs": [],
   "source": [
    "N = 2\n",
    "NQ_means = (23.50000, 31.16667)\n",
    "NQ_std = (3.68273, 1.685312)"
   ]
  },
  {
   "cell_type": "code",
   "execution_count": 4,
   "metadata": {
    "collapsed": true
   },
   "outputs": [],
   "source": [
    "ind = np.arange(N)  # the x locations for the groups\n",
    "width = 0.35       # the width of the bars"
   ]
  },
  {
   "cell_type": "code",
   "execution_count": 6,
   "metadata": {
    "collapsed": false
   },
   "outputs": [
    {
     "data": {
      "text/plain": [
       "<matplotlib.legend.Legend at 0x107fa5a50>"
      ]
     },
     "execution_count": 6,
     "metadata": {},
     "output_type": "execute_result"
    },
    {
     "data": {
      "image/png": "[encoded data removed]",
      "text/plain": [
       "<matplotlib.figure.Figure at 0x107e75590>"
      ]
     },
     "metadata": {},
     "output_type": "display_data"
    }
   ],
   "source": [
    "fig, ax = plt.subplots()\n",
    "rects1 = ax.bar(ind, NQ_means, width, linewidth = 0, color=green, yerr= NQ_std, ecolor='black')\n",
    "BK_means = (29.583333, 41.00000)\n",
    "BK_std = (4.34054, .901388)\n",
    "rects2 = ax.bar(ind + width, BK_means, width, linewidth = 0, color=orange, yerr=BK_std, ecolor='black')\n",
    "ax.set_ylabel('10^5 Infections per uL')\n",
    "ax.set_title('Lysis Lysogeny Assay')\n",
    "ax.set_xticks(ind + width)\n",
    "ax.set_xticklabels(('NQ009', 'borkan'))\n",
    "ax.set_ylim([0, 50])\n",
    "ax.legend((rects1[0], rects2[0]), ('Lytic Events', 'Total Events'), frameon=False)"
   ]
  },
  {
   "cell_type": "code",
   "execution_count": null,
   "metadata": {
    "collapsed": true
   },
   "outputs": [],
   "source": []
  }
 ],
 "metadata": {
  "kernelspec": {
   "display_name": "Python 2",
   "language": "python",
   "name": "python2"
  },
  "language_info": {
   "codemirror_mode": {
    "name": "ipython",
    "version": 2
   },
   "file_extension": ".py",
   "mimetype": "text/x-python",
   "name": "python",
   "nbconvert_exporter": "python",
   "pygments_lexer": "ipython2",
   "version": "2.7.11"
  }
 },
 "nbformat": 4,
 "nbformat_minor": 0
}
