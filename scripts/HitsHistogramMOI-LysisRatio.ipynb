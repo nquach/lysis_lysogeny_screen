{
 "cells": [
  {
   "cell_type": "code",
   "execution_count": 2,
   "metadata": {
    "collapsed": true
   },
   "outputs": [],
   "source": [
    "%matplotlib inline\n",
    "import numpy as np\n",
    "import json\n",
    "import matplotlib.pyplot as plt\n",
    "import os\n",
    "from scipy.stats import beta\n",
    "import utils"
   ]
  },
  {
   "cell_type": "code",
   "execution_count": 3,
   "metadata": {
    "collapsed": true
   },
   "outputs": [],
   "source": [
    "def calculate_MOI(N_infected, Nc):\n",
    "    if Nc == 0:\n",
    "        return 0\n",
    "    x = np.linspace(0,5,200)\n",
    "    gamma = np.float(Nc)*np.log(1-1/np.float(Nc))\n",
    "    posterior = np.abs(gamma*np.exp(gamma*x))*beta.pdf(np.exp(gamma*x), 1+Nc-N_infected, 1+N_infected)\n",
    "    idx = np.argmax(posterior)\n",
    "    return x[idx]"
   ]
  },
  {
   "cell_type": "code",
   "execution_count": 4,
   "metadata": {
    "collapsed": true
   },
   "outputs": [],
   "source": [
    "root_direc = utils.ROOT_DIREC\n",
    "data_direc = os.path.join(root_direc, 'datatxt')"
   ]
  },
  {
   "cell_type": "code",
   "execution_count": 5,
   "metadata": {
    "collapsed": true
   },
   "outputs": [],
   "source": [
    "sky_blue = (86.0/255.0, 180.0/255.0, 233.0/255.0)"
   ]
  },
  {
   "cell_type": "code",
   "execution_count": 6,
   "metadata": {
    "collapsed": true
   },
   "outputs": [],
   "source": [
    "data_file = open(os.path.join(data_direc, 'data_by_name.txt'), 'r')\n",
    "data_dict = json.load(data_file)"
   ]
  },
  {
   "cell_type": "code",
   "execution_count": 7,
   "metadata": {
    "collapsed": false
   },
   "outputs": [
    {
     "name": "stderr",
     "output_type": "stream",
     "text": [
      "/anaconda/lib/python2.7/site-packages/ipykernel/__main__.py:5: RuntimeWarning: divide by zero encountered in log\n",
      "/anaconda/lib/python2.7/site-packages/ipykernel/__main__.py:6: RuntimeWarning: invalid value encountered in multiply\n",
      "//anaconda/lib/python2.7/site-packages/scipy/stats/_distn_infrastructure.py:1582: RuntimeWarning: invalid value encountered in greater_equal\n",
      "  cond1 = (scale > 0) & (x >= self.a) & (x <= self.b)\n",
      "//anaconda/lib/python2.7/site-packages/scipy/stats/_distn_infrastructure.py:1582: RuntimeWarning: invalid value encountered in less_equal\n",
      "  cond1 = (scale > 0) & (x >= self.a) & (x <= self.b)\n"
     ]
    }
   ],
   "source": [
    "MOI_list = []\n",
    "\n",
    "for gene in data_dict.keys():\n",
    "\tstats_list = data_dict[gene]\n",
    "\ttotal = stats_list[1]\n",
    "\tinfected = stats_list[2]\n",
    "\tMOI_list.append(calculate_MOI(infected, total))"
   ]
  },
  {
   "cell_type": "code",
   "execution_count": 8,
   "metadata": {
    "collapsed": false
   },
   "outputs": [
    {
     "data": {
      "text/plain": [
       "[0, 2, 0, 2000]"
      ]
     },
     "execution_count": 8,
     "metadata": {},
     "output_type": "execute_result"
    },
    {
     "data": {
      "image/png": "[encoded data removed]",
      "text/plain": [
       "<matplotlib.figure.Figure at 0x10d7932d0>"
      ]
     },
     "metadata": {},
     "output_type": "display_data"
    }
   ],
   "source": [
    "plt.figure()\n",
    "plt.hist(MOI_list, 50, color=sky_blue)\n",
    "plt.xlabel('MOI')\n",
    "plt.ylabel('Frequency')\n",
    "plt.title('Histogram of Keio Collection MOI')\n",
    "plt.axis([0, 2, 0, 2000])"
   ]
  },
  {
   "cell_type": "code",
   "execution_count": 9,
   "metadata": {
    "collapsed": true
   },
   "outputs": [],
   "source": [
    "p_list = []\n",
    "\n",
    "for gene in data_dict.keys():\n",
    "\tstats_list = data_dict[gene]\n",
    "\tp_list.append(stats_list[6])"
   ]
  },
  {
   "cell_type": "code",
   "execution_count": 10,
   "metadata": {
    "collapsed": false
   },
   "outputs": [
    {
     "data": {
      "text/plain": [
       "<matplotlib.text.Text at 0x10dda60d0>"
      ]
     },
     "execution_count": 10,
     "metadata": {},
     "output_type": "execute_result"
    },
    {
     "data": {
      "image/png": "[encoded data removed]",
      "text/plain": [
       "<matplotlib.figure.Figure at 0x10dab5b90>"
      ]
     },
     "metadata": {},
     "output_type": "display_data"
    }
   ],
   "source": [
    "plt.figure()\n",
    "plt.hist(p_list, 50, color=sky_blue)\n",
    "plt.xlabel('Probability of lysis')\n",
    "plt.ylabel('Frequency')\n",
    "plt.title('Histogram of Keio Collection Lysis Ratios')"
   ]
  },
  {
   "cell_type": "code",
   "execution_count": 11,
   "metadata": {
    "collapsed": true
   },
   "outputs": [],
   "source": [
    "data_file.close()"
   ]
  },
  {
   "cell_type": "code",
   "execution_count": null,
   "metadata": {
    "collapsed": true
   },
   "outputs": [],
   "source": []
  }
 ],
 "metadata": {
  "kernelspec": {
   "display_name": "Python 2",
   "language": "python",
   "name": "python2"
  },
  "language_info": {
   "codemirror_mode": {
    "name": "ipython",
    "version": 2
   },
   "file_extension": ".py",
   "mimetype": "text/x-python",
   "name": "python",
   "nbconvert_exporter": "python",
   "pygments_lexer": "ipython2",
   "version": "2.7.11"
  }
 },
 "nbformat": 4,
 "nbformat_minor": 0
}
