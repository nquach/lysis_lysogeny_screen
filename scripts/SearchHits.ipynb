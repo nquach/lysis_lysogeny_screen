{
 "cells": [
  {
   "cell_type": "code",
   "execution_count": 2,
   "metadata": {
    "collapsed": false
   },
   "outputs": [],
   "source": [
    "import json\n",
    "import os\n",
    "import numpy as np\n",
    "from data_analysis import filter_pooled_hits"
   ]
  },
  {
   "cell_type": "code",
   "execution_count": 3,
   "metadata": {
    "collapsed": true
   },
   "outputs": [],
   "source": [
    "name = None\n",
    "mode_lb = 0\n",
    "mode_ub = 0.2\n",
    "n_infected_lb = 30\n",
    "n_infected_ub = 10000\n",
    "n_cell_lb = 30\n",
    "n_cell_ub = 10000\n",
    "frac_infected_lb = 0\n",
    "frac_infected_ub = 1\n",
    "var_lb = 0\n",
    "var_ub = 10000\n",
    "n_lytic_lb = 0\n",
    "n_lytic_ub = 10000\n",
    "n_lyso_lb = 0\n",
    "n_lyso_ub = 10000\n",
    "OD_lb = 0\n",
    "OD_ub = 1\n",
    "in_maynard = False\n",
    "is_TF = False\n",
    "is_PPI = False\n",
    "save_hits = True"
   ]
  },
  {
   "cell_type": "code",
   "execution_count": 4,
   "metadata": {
    "collapsed": false
   },
   "outputs": [
    {
     "name": "stdout",
     "output_type": "stream",
     "text": [
      " \n",
      "Searching through pooled hits...\n",
      "agaV mode=0.1625 n_lytic=13 infected=80 total cells=4683 frac_infected=0.0170830664104\n",
      "astD mode=0.166666666667 n_lytic=7 infected=42 total cells=3320 frac_infected=0.0126506024096\n",
      "atpC mode=0.190615835777 n_lytic=65 infected=341 total cells=8457 frac_infected=0.0403216270545\n",
      "cedA mode=0.0411946446962 n_lytic=40 infected=971 total cells=2048 frac_infected=0.47412109375\n",
      "cstA mode=0.184615384615 n_lytic=12 infected=65 total cells=2546 frac_infected=0.0255302435192\n",
      "dbpA mode=0.055 n_lytic=11 infected=200 total cells=1409 frac_infected=0.14194464159\n",
      "dgoA mode=0.169014084507 n_lytic=12 infected=71 total cells=6580 frac_infected=0.0107902735562\n",
      "dhaH mode=0.117647058824 n_lytic=8 infected=68 total cells=4557 frac_infected=0.0149220978714\n",
      "feaB mode=0.2 n_lytic=10 infected=50 total cells=4115 frac_infected=0.0121506682868\n",
      "fruB mode=0.16393442623 n_lytic=10 infected=61 total cells=4109 frac_infected=0.0148454611828\n",
      "fucO mode=0.195652173913 n_lytic=63 infected=322 total cells=2481 frac_infected=0.129786376461\n",
      "glpK mode=0.121951219512 n_lytic=5 infected=41 total cells=2018 frac_infected=0.0203171456888\n",
      "gntR mode=0.18 n_lytic=9 infected=50 total cells=3983 frac_infected=0.0125533517449\n",
      "gspC mode=0.195652173913 n_lytic=9 infected=46 total cells=2135 frac_infected=0.0215456674473\n",
      "hflC mode=0.0161290322581 n_lytic=7 infected=434 total cells=7666 frac_infected=0.0566136185755\n",
      "hflK mode=0.0547445255474 n_lytic=15 infected=274 total cells=3280 frac_infected=0.0835365853659\n",
      "hokB mode=0.01171875 n_lytic=6 infected=512 total cells=2757 frac_infected=0.185709104099\n",
      "hupB mode=0.145833333333 n_lytic=21 infected=144 total cells=2269 frac_infected=0.063464081093\n",
      "ilvL mode=0.180952380952 n_lytic=19 infected=105 total cells=4981 frac_infected=0.0210801043967\n",
      "intG mode=0.15873015873 n_lytic=10 infected=63 total cells=3545 frac_infected=0.0177715091678\n",
      "leuA mode=0.147058823529 n_lytic=5 infected=34 total cells=745 frac_infected=0.0456375838926\n",
      "leuL mode=0.128205128205 n_lytic=5 infected=39 total cells=722 frac_infected=0.0540166204986\n",
      "malM mode=0.1 n_lytic=4 infected=40 total cells=5041 frac_infected=0.00793493354493\n",
      "mhpT mode=0.0571428571429 n_lytic=4 infected=70 total cells=8250 frac_infected=0.00848484848485\n",
      "msyB mode=0.116883116883 n_lytic=9 infected=77 total cells=4399 frac_infected=0.0175039781769\n",
      "mtr mode=0.15 n_lytic=9 infected=60 total cells=5790 frac_infected=0.0103626943005\n",
      "nrdE mode=0.056129985229 n_lytic=38 infected=677 total cells=2297 frac_infected=0.294732259469\n",
      "osmY mode=0.119402985075 n_lytic=8 infected=67 total cells=4907 frac_infected=0.0136539637253\n",
      "rhlE mode=0.188679245283 n_lytic=10 infected=53 total cells=2615 frac_infected=0.0202676864245\n",
      "rplK mode=0.166666666667 n_lytic=10 infected=60 total cells=2603 frac_infected=0.0230503265463\n",
      "rsxE mode=0.0466321243523 n_lytic=18 infected=386 total cells=2381 frac_infected=0.162116757665\n",
      "sodB mode=0.0536454523287 n_lytic=220 infected=4101 total cells=8658 frac_infected=0.473665973666\n",
      "tatD mode=0.125 n_lytic=10 infected=80 total cells=4392 frac_infected=0.0182149362477\n",
      "tatE mode=0.1875 n_lytic=6 infected=32 total cells=2534 frac_infected=0.0126282557222\n",
      "ugpA mode=0.177777777778 n_lytic=8 infected=45 total cells=6413 frac_infected=0.0070169967254\n",
      "xylF mode=0.161290322581 n_lytic=5 infected=31 total cells=3364 frac_infected=0.00921521997622\n",
      "ycgH mode=0.11170212766 n_lytic=21 infected=188 total cells=1793 frac_infected=0.104852203012\n",
      "ydgH mode=0.176470588235 n_lytic=24 infected=136 total cells=6926 frac_infected=0.019636153624\n",
      "yfaS mode=0.0550458715596 n_lytic=60 infected=1090 total cells=4543 frac_infected=0.239929561963\n",
      "yhaC mode=0.161290322581 n_lytic=10 infected=62 total cells=4002 frac_infected=0.0154922538731\n",
      "yhhF mode=0.176470588235 n_lytic=6 infected=34 total cells=4570 frac_infected=0.0074398249453\n",
      "yjgI mode=0.171641791045 n_lytic=23 infected=134 total cells=2992 frac_infected=0.0447860962567\n",
      "ymcA mode=0.146464646465 n_lytic=29 infected=198 total cells=7348 frac_infected=0.0269461077844\n",
      "ymfE mode=0.1875 n_lytic=6 infected=32 total cells=1700 frac_infected=0.0188235294118\n",
      "ynfO mode=0.194444444444 n_lytic=7 infected=36 total cells=2450 frac_infected=0.014693877551\n",
      "ynjD mode=0.139534883721 n_lytic=6 infected=43 total cells=2959 frac_infected=0.014531936465\n",
      "yoaC mode=0.169491525424 n_lytic=20 infected=118 total cells=6218 frac_infected=0.0189771630749\n",
      " \n",
      "Criteria:\n",
      "mode=[ 0 0.2 ]\n",
      "n_infected=[ 30 10000 ]\n",
      "total_cell=[ 30 10000 ]\n",
      "frac_infected=[ 0 1 ]\n",
      "var=[ 0 10000 ]\n",
      "n_lytic=[ 0 10000 ]\n",
      "n_lyso=[ 0 10000 ]\n",
      "Maynard criteria False\n",
      "TF criteria False\n",
      "PPI criteria False\n",
      "Number of hits meeting criteria: 47\n"
     ]
    }
   ],
   "source": [
    "filter_pooled_hits(name = name, mode_lb = mode_lb, mode_ub = mode_ub, n_infected_lb = n_infected_lb, n_infected_ub = n_infected_ub, n_cell_lb = n_cell_lb, n_cell_ub = n_cell_ub, frac_infected_lb = frac_infected_lb, frac_infected_ub = frac_infected_ub, var_lb = var_lb, var_ub = var_ub, n_lytic_lb = n_lytic_lb, n_lytic_ub = n_lytic_ub, n_lyso_lb = n_lyso_lb, n_lyso_ub = n_lyso_ub, in_maynard = in_maynard, is_TF = is_TF, is_PPI = is_PPI, save_hits = save_hits)\n"
   ]
  },
  {
   "cell_type": "code",
   "execution_count": null,
   "metadata": {
    "collapsed": true
   },
   "outputs": [],
   "source": []
  }
 ],
 "metadata": {
  "kernelspec": {
   "display_name": "Python 2",
   "language": "python",
   "name": "python2"
  },
  "language_info": {
   "codemirror_mode": {
    "name": "ipython",
    "version": 2
   },
   "file_extension": ".py",
   "mimetype": "text/x-python",
   "name": "python",
   "nbconvert_exporter": "python",
   "pygments_lexer": "ipython2",
   "version": "2.7.11"
  }
 },
 "nbformat": 4,
 "nbformat_minor": 0
}
